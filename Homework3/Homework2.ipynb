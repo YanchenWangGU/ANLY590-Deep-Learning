{
 "cells": [
  {
   "cell_type": "code",
   "execution_count": 66,
   "metadata": {},
   "outputs": [],
   "source": [
    "from keras.layers import Input, Dense, Conv2D, MaxPooling2D, UpSampling2D\n",
    "from keras.models import Model\n",
    "from keras import backend as K\n",
    "import matplotlib.pyplot as plt\n",
    "\n",
    "input_img = Input(shape=(28, 28, 1))  # adapt this if using `channels_first` image data format\n",
    "\n",
    "x = Conv2D(16, (3, 3), activation='relu', padding='same')(input_img)\n",
    "x = MaxPooling2D((2, 2), padding='same')(x)\n",
    "x = Conv2D(8, (3, 3), activation='relu', padding='same')(x)\n",
    "x = MaxPooling2D((2, 2), padding='same')(x)\n",
    "x = Conv2D(8, (3, 3), activation='relu', padding='same')(x)\n",
    "encoded = MaxPooling2D((2, 2), padding='same')(x)\n",
    "\n",
    "# at this point the representation is (4, 4, 8) i.e. 128-dimensional\n",
    "\n",
    "x = Conv2D(8, (3, 3), activation='relu', padding='same')(encoded)\n",
    "x = UpSampling2D((2, 2))(x)\n",
    "x = Conv2D(8, (3, 3), activation='relu', padding='same')(x)\n",
    "x = UpSampling2D((2, 2))(x)\n",
    "x = Conv2D(16, (3, 3), activation='relu')(x)\n",
    "x = UpSampling2D((2, 2))(x)\n",
    "decoded = Conv2D(1, (3, 3), activation='sigmoid', padding='same')(x)\n",
    "\n",
    "autoencoder = Model(input_img, decoded)\n",
    "autoencoder.compile(optimizer='adadelta', loss='binary_crossentropy')\n",
    "\n"
   ]
  },
  {
   "cell_type": "code",
   "execution_count": 67,
   "metadata": {},
   "outputs": [
    {
     "name": "stdout",
     "output_type": "stream",
     "text": [
      "Downloading data from http://fashion-mnist.s3-website.eu-central-1.amazonaws.com/train-labels-idx1-ubyte.gz\n",
      "32768/29515 [=================================] - 0s 3us/step\n",
      "Downloading data from http://fashion-mnist.s3-website.eu-central-1.amazonaws.com/train-images-idx3-ubyte.gz\n",
      "26427392/26421880 [==============================] - 3s 0us/step\n",
      "Downloading data from http://fashion-mnist.s3-website.eu-central-1.amazonaws.com/t10k-labels-idx1-ubyte.gz\n",
      "8192/5148 [===============================================] - 0s 0us/step\n",
      "Downloading data from http://fashion-mnist.s3-website.eu-central-1.amazonaws.com/t10k-images-idx3-ubyte.gz\n",
      "4423680/4422102 [==============================] - 1s 0us/step\n"
     ]
    }
   ],
   "source": [
    "from keras.datasets import fashion_mnist\n",
    "import numpy as np\n",
    "\n",
    "(x_train, _), (x_test, _) = fashion_mnist.load_data()\n",
    "\n",
    "x_train = x_train.astype('float32') / 255.\n",
    "x_test = x_test.astype('float32') / 255.\n",
    "x_train = np.reshape(x_train, (len(x_train), 28, 28, 1))  # adapt this if using `channels_first` image data format\n",
    "x_test = np.reshape(x_test, (len(x_test), 28, 28, 1))  # adapt this if using `channels_first` image data format"
   ]
  },
  {
   "cell_type": "code",
   "execution_count": 68,
   "metadata": {},
   "outputs": [
    {
     "name": "stdout",
     "output_type": "stream",
     "text": [
      "Train on 60000 samples, validate on 10000 samples\n",
      "Epoch 1/5\n",
      "60000/60000 [==============================] - 68s 1ms/step - loss: 0.3646 - val_loss: 0.3330\n",
      "Epoch 2/5\n",
      "60000/60000 [==============================] - 71s 1ms/step - loss: 0.3203 - val_loss: 0.3151\n",
      "Epoch 3/5\n",
      "60000/60000 [==============================] - 58s 962us/step - loss: 0.3117 - val_loss: 0.3054\n",
      "Epoch 4/5\n",
      "60000/60000 [==============================] - 60s 1ms/step - loss: 0.3066 - val_loss: 0.3060\n",
      "Epoch 5/5\n",
      "60000/60000 [==============================] - 61s 1ms/step - loss: 0.3033 - val_loss: 0.3042\n"
     ]
    },
    {
     "data": {
      "text/plain": [
       "<keras.callbacks.History at 0x1c4ff6c048>"
      ]
     },
     "execution_count": 68,
     "metadata": {},
     "output_type": "execute_result"
    }
   ],
   "source": [
    "from keras.callbacks import TensorBoard\n",
    "\n",
    "autoencoder.fit(x_train, x_train,\n",
    "                epochs=5,\n",
    "                batch_size=128,\n",
    "                shuffle=True,\n",
    "                validation_data=(x_test, x_test),\n",
    "                callbacks=[TensorBoard(log_dir='/tmp/autoencoder')])"
   ]
  },
  {
   "cell_type": "code",
   "execution_count": 69,
   "metadata": {},
   "outputs": [
    {
     "data": {
      "image/png": "[encoded data removed]",
      "text/plain": [
       "<Figure size 432x288 with 10 Axes>"
      ]
     },
     "metadata": {},
     "output_type": "display_data"
    }
   ],
   "source": [
    "# Choose 5 random images in the testset and comapre them \n",
    "decoded_imgs = autoencoder.predict(x_test)\n",
    "index = np.random.randint(10000, size=5)\n",
    "f, axarr = plt.subplots(2, 5)\n",
    "for i in range(5):\n",
    "    axarr[0,i].imshow(x_test[index[i]].reshape(28, 28))\n",
    "    axarr[0,i].get_xaxis().set_visible(False)\n",
    "    axarr[0,i].get_yaxis().set_visible(False)\n",
    "    axarr[1,i].imshow(decoded_imgs[index[i]].reshape(28, 28))\n",
    "    axarr[1,i].get_xaxis().set_visible(False)\n",
    "    axarr[1,i].get_yaxis().set_visible(False)\n"
   ]
  },
  {
   "cell_type": "markdown",
   "metadata": {},
   "source": [
    "## 2.1 Deep CNN\n",
    "Descroption of architectural choices: number of kernels: 32, kernel size: 3 by 3, strides: 2, padding: \"same\", which results in padding the input such that the output has the same length as the original input (reference: https://keras.io/layers/convolutional/), <br />\n",
    "Network depth: two convolution layers $\\rightarrow$ max pooling $\\rightarrow$ 1 dense layer $\\rightarrow$ final output layer. "
   ]
  },
  {
   "cell_type": "code",
   "execution_count": 78,
   "metadata": {},
   "outputs": [
    {
     "name": "stdout",
     "output_type": "stream",
     "text": [
      "X_train shape: (60000, 28, 28, 1)\n"
     ]
    }
   ],
   "source": [
    "(X_train, y_train), (X_test, y_test) = fashion_mnist.load_data()\n",
    "X_train = X_train.reshape(X_train.shape[0], 28, 28, 1)\n",
    "X_test = X_test.reshape(X_test.shape[0], 28, 28, 1)\n",
    "input_shape = (28, 28, 1)\n",
    "#more reshaping\n",
    "X_train = X_train.astype('float32')\n",
    "X_test = X_test.astype('float32')\n",
    "X_train /= 255\n",
    "X_test /= 255\n",
    "print('X_train shape:', X_train.shape) #X_train shape: (60000, 28, 28, 1)"
   ]
  },
  {
   "cell_type": "code",
   "execution_count": 79,
   "metadata": {},
   "outputs": [],
   "source": [
    "import keras\n",
    "#set number of categories\n",
    "num_category = 10\n",
    "# convert class vectors to binary class matrices\n",
    "y_train = keras.utils.to_categorical(y_train, num_category)\n",
    "y_test = keras.utils.to_categorical(y_test, num_category)"
   ]
  },
  {
   "cell_type": "code",
   "execution_count": 98,
   "metadata": {},
   "outputs": [],
   "source": [
    "from keras.models import Sequential\n",
    "from keras.layers import Dropout, Flatten\n",
    "import keras\n",
    "model = Sequential()\n",
    "model.add(Conv2D(32, kernel_size=(3, 3),\n",
    "                 padding=\"same\",\n",
    "                 activation='relu',\n",
    "                 strides=(2, 2),\n",
    "                 input_shape=input_shape))\n",
    "model.add(Conv2D(64, (3, 3), activation='relu'))\n",
    "model.add(MaxPooling2D(pool_size=(2, 2),padding=\"same\"))\n",
    "model.add(Dropout(0.25))\n",
    "model.add(Flatten())\n",
    "model.add(Dense(256, activation='relu'))\n",
    "model.add(Dropout(0.5))\n",
    "model.add(Dense(10, activation='softmax'))"
   ]
  },
  {
   "cell_type": "code",
   "execution_count": 99,
   "metadata": {},
   "outputs": [],
   "source": [
    "model.compile(loss=keras.losses.categorical_crossentropy,\n",
    "              optimizer=keras.optimizers.Adadelta(),\n",
    "              metrics=['accuracy'])"
   ]
  },
  {
   "cell_type": "code",
   "execution_count": 82,
   "metadata": {},
   "outputs": [
    {
     "name": "stdout",
     "output_type": "stream",
     "text": [
      "Train on 60000 samples, validate on 10000 samples\n",
      "Epoch 1/10\n",
      "60000/60000 [==============================] - 38s 640us/step - loss: 0.6925 - acc: 0.7484 - val_loss: 0.4723 - val_acc: 0.8212\n",
      "Epoch 2/10\n",
      "60000/60000 [==============================] - 44s 741us/step - loss: 0.4315 - acc: 0.8447 - val_loss: 0.4173 - val_acc: 0.8334\n",
      "Epoch 3/10\n",
      "60000/60000 [==============================] - 33s 546us/step - loss: 0.3738 - acc: 0.8654 - val_loss: 0.3753 - val_acc: 0.8665\n",
      "Epoch 4/10\n",
      "60000/60000 [==============================] - 30s 507us/step - loss: 0.3443 - acc: 0.8745 - val_loss: 0.3359 - val_acc: 0.8757\n",
      "Epoch 5/10\n",
      "60000/60000 [==============================] - 30s 502us/step - loss: 0.3180 - acc: 0.8848 - val_loss: 0.3076 - val_acc: 0.8856\n",
      "Epoch 6/10\n",
      "60000/60000 [==============================] - 36s 605us/step - loss: 0.2980 - acc: 0.8909 - val_loss: 0.3017 - val_acc: 0.8876\n",
      "Epoch 7/10\n",
      "60000/60000 [==============================] - 40s 667us/step - loss: 0.2861 - acc: 0.8943 - val_loss: 0.2883 - val_acc: 0.8936\n",
      "Epoch 8/10\n",
      "60000/60000 [==============================] - 37s 612us/step - loss: 0.2679 - acc: 0.9017 - val_loss: 0.2823 - val_acc: 0.8936\n",
      "Epoch 9/10\n",
      "60000/60000 [==============================] - 33s 553us/step - loss: 0.2569 - acc: 0.9065 - val_loss: 0.2582 - val_acc: 0.9051\n",
      "Epoch 10/10\n",
      "60000/60000 [==============================] - 30s 497us/step - loss: 0.2490 - acc: 0.9087 - val_loss: 0.2626 - val_acc: 0.9024\n"
     ]
    }
   ],
   "source": [
    "batch_size = 256\n",
    "num_epoch = 10\n",
    "#model training\n",
    "model_log = model.fit(X_train, y_train,\n",
    "          batch_size=batch_size,\n",
    "          epochs=num_epoch,\n",
    "          verbose=1,\n",
    "          validation_data=(X_test, y_test))"
   ]
  },
  {
   "cell_type": "code",
   "execution_count": 83,
   "metadata": {},
   "outputs": [
    {
     "name": "stdout",
     "output_type": "stream",
     "text": [
      "Test loss: 0.26264662700891495\n",
      "Test accuracy: 0.9024\n"
     ]
    }
   ],
   "source": [
    "score = model.evaluate(X_test, y_test, verbose=0)\n",
    "print('Test loss:', score[0]) #Test loss: 0.0296396646054\n",
    "print('Test accuracy:', score[1]) "
   ]
  },
  {
   "cell_type": "code",
   "execution_count": 84,
   "metadata": {},
   "outputs": [
    {
     "name": "stdout",
     "output_type": "stream",
     "text": [
      "Training loss: 0.20984565902451674\n",
      "Training accuracy: 0.9225\n"
     ]
    }
   ],
   "source": [
    "score = model.evaluate(X_train, y_train, verbose=0)\n",
    "print('Training loss:', score[0]) \n",
    "print('Training accuracy:', score[1]) "
   ]
  },
  {
   "cell_type": "markdown",
   "metadata": {},
   "source": [
    "## 2.2 Transfer Learning"
   ]
  },
  {
   "cell_type": "code",
   "execution_count": 86,
   "metadata": {},
   "outputs": [
    {
     "name": "stdout",
     "output_type": "stream",
     "text": [
      "Train on 60000 samples, validate on 10000 samples\n",
      "Epoch 1/5\n",
      "60000/60000 [==============================] - 645s 11ms/step - loss: 1.6333 - acc: 0.5282 - val_loss: 0.7129 - val_acc: 0.7374\n",
      "Epoch 2/5\n",
      "60000/60000 [==============================] - 625s 10ms/step - loss: 0.9687 - acc: 0.6558 - val_loss: 0.6394 - val_acc: 0.7594\n",
      "Epoch 3/5\n",
      "60000/60000 [==============================] - 706s 12ms/step - loss: 0.8596 - acc: 0.6919 - val_loss: 0.6178 - val_acc: 0.7829\n",
      "Epoch 4/5\n",
      "60000/60000 [==============================] - 723s 12ms/step - loss: 0.8071 - acc: 0.7097 - val_loss: 0.5891 - val_acc: 0.7921\n",
      "Epoch 5/5\n",
      "60000/60000 [==============================] - 647s 11ms/step - loss: 0.7478 - acc: 0.7290 - val_loss: 0.5621 - val_acc: 0.7975\n"
     ]
    }
   ],
   "source": [
    "import cv2\n",
    "from keras.applications import VGG16\n",
    "\n",
    "# loading the data\n",
    "(x_train, y_train), (x_test, y_test) = fashion_mnist.load_data()\n",
    "num_category = 10\n",
    "# convert class vectors to binary class matrices\n",
    "y_train = keras.utils.to_categorical(y_train, num_category)\n",
    "y_test = keras.utils.to_categorical(y_test, num_category)\n",
    "# converting it to RGB\n",
    "x_train = [cv2.cvtColor(cv2.resize(i, (32,32)), cv2.COLOR_GRAY2BGR) for i in x_train]\n",
    "x_train = np.concatenate([arr[np.newaxis] for arr in x_train]).astype('float32')\n",
    "\n",
    "x_test = [cv2.cvtColor(cv2.resize(i, (32,32)), cv2.COLOR_GRAY2BGR) for i in x_test]\n",
    "x_test = np.concatenate([arr[np.newaxis] for arr in x_test]).astype('float32')\n",
    "conv_base = VGG16(weights='imagenet', include_top=False,input_shape = (32,32,3))\n",
    "for layer in conv_base.layers:\n",
    "    layer.trainable = False\n",
    "\n",
    "    \n",
    "model = Sequential()\n",
    "model.add(conv_base)\n",
    "model.add(Dropout(0.25))\n",
    "#flatten since too many dimensions, we only want a classification output\n",
    "model.add(Flatten())\n",
    "#fully connected to get all relevant data\n",
    "model.add(Dense(256, activation='relu'))\n",
    "model.add(Dense(64, activation='relu'))\n",
    "\n",
    "#one more dropout for convergence' sake :) \n",
    "model.add(Dropout(0.5))\n",
    "#output a softmax to squash the matrix into output probabilities\n",
    "model.add(Dense(10, activation='softmax'))\n",
    "model.compile(loss=keras.losses.categorical_crossentropy,\n",
    "              optimizer=keras.optimizers.Adadelta(),\n",
    "              metrics=['accuracy'])\n",
    "\n",
    "\n",
    "batch_size = 256\n",
    "num_epoch = 5\n",
    "#model training\n",
    "model_log = model.fit(x_train, y_train,\n",
    "          batch_size=batch_size,\n",
    "          epochs=num_epoch,\n",
    "          verbose=1,\n",
    "          validation_data=(x_test, y_test))\n"
   ]
  },
  {
   "cell_type": "code",
   "execution_count": 87,
   "metadata": {},
   "outputs": [
    {
     "name": "stdout",
     "output_type": "stream",
     "text": [
      "Test loss: 0.5620787094116211\n",
      "Test accuracy: 0.7975\n"
     ]
    }
   ],
   "source": [
    "score = model.evaluate(x_test, y_test, verbose=0)\n",
    "print('Test loss:', score[0]) \n",
    "print('Test accuracy:', score[1]) "
   ]
  },
  {
   "cell_type": "code",
   "execution_count": 88,
   "metadata": {},
   "outputs": [
    {
     "name": "stdout",
     "output_type": "stream",
     "text": [
      "Training loss: 0.5212618622144063\n",
      "Training accuracy: 0.8122833333333334\n"
     ]
    }
   ],
   "source": [
    "score = model.evaluate(x_train, y_train, verbose=0)\n",
    "print('Training loss:', score[0]) \n",
    "print('Training accuracy:', score[1]) "
   ]
  },
  {
   "cell_type": "markdown",
   "metadata": {},
   "source": [
    "# 3 Text Classification\n",
    "## 3.1 RNN"
   ]
  },
  {
   "cell_type": "code",
   "execution_count": 2,
   "metadata": {},
   "outputs": [
    {
     "name": "stdout",
     "output_type": "stream",
     "text": [
      "total chars: 41\n",
      "Train on 47117 samples, validate on 20194 samples\n",
      "Epoch 1/5\n",
      "47117/47117 [==============================] - 73s 2ms/step - loss: 0.1133 - acc: 0.9803 - val_loss: 0.0923 - val_acc: 0.9815\n",
      "Epoch 2/5\n",
      "47117/47117 [==============================] - 74s 2ms/step - loss: 0.0968 - acc: 0.9804 - val_loss: 0.0921 - val_acc: 0.9815\n",
      "Epoch 3/5\n",
      "47117/47117 [==============================] - 70s 1ms/step - loss: 0.0968 - acc: 0.9804 - val_loss: 0.0922 - val_acc: 0.9815\n",
      "Epoch 4/5\n",
      "47117/47117 [==============================] - 69s 1ms/step - loss: 0.0968 - acc: 0.9804 - val_loss: 0.0927 - val_acc: 0.9815\n",
      "Epoch 5/5\n",
      "47117/47117 [==============================] - 81s 2ms/step - loss: 0.0967 - acc: 0.9804 - val_loss: 0.0920 - val_acc: 0.9815\n"
     ]
    }
   ],
   "source": [
    "from keras.utils.data_utils import get_file\n",
    "import io\n",
    "from keras.preprocessing.text import one_hot\n",
    "from keras.preprocessing import sequence\n",
    "import random\n",
    "from keras.models import Sequential\n",
    "from keras.layers import Dense, Dropout, Activation, Convolution1D\n",
    "from keras.optimizers import SGD\n",
    "from keras.layers.embeddings import Embedding\n",
    "import seaborn as sns\n",
    "from keras.preprocessing.text import one_hot\n",
    "from keras.layers import LSTM\n",
    "from keras.preprocessing.sequence import pad_sequences\n",
    "from keras.optimizers import RMSprop\n",
    "import numpy as np\n",
    "\n",
    "\n",
    "benign = get_file('benign',\n",
    "    origin='https://s3.amazonaws.com/anly-590/url-classification/benign-urls.txt')\n",
    "\n",
    "with io.open(benign, encoding='utf-8') as f:\n",
    "    lines = f.readlines()\n",
    "benign_srt = []\n",
    "for i in lines:\n",
    "    if i[0]!='#':\n",
    "        i = i.rstrip(\"\\n\\r\")\n",
    "        benign_srt.append(i.lower()) \n",
    "\n",
    "len(benign_srt)\n",
    "\n",
    "malicious = get_file('malicious',\n",
    "    origin='https://s3.amazonaws.com/anly-590/url-classification/malicious-urls.txt')\n",
    "\n",
    "with io.open(malicious, encoding='utf-8') as f:\n",
    "    lines = f.readlines()\n",
    "malicious_srt = []\n",
    "for i in lines:\n",
    "    if i[0]!='#':\n",
    "        i = i.rstrip(\"\\n\\r\")\n",
    "        malicious_srt.append(i.lower()) \n",
    "        \n",
    "len(malicious_srt)\n",
    "\n",
    "\n",
    "tot_str = benign_srt+malicious_srt\n",
    "\n",
    "my_lst_str = ''.join(map(str, tot_str))\n",
    "\n",
    "\n",
    "chars = sorted(list(set(my_lst_str)))\n",
    "print('total chars:', len(chars))\n",
    "char_indices = dict((c, i) for i, c in enumerate(chars))\n",
    "indices_char = dict((i, c) for i, c in enumerate(chars))\n",
    "max_len = max([len(i) for i in tot_str])\n",
    "\n",
    "\n",
    "X = np.zeros((len(tot_str), max_len, len(chars)), dtype=np.uint8 )\n",
    "Y = np.concatenate([np.zeros(len(benign_srt)), np.ones(len(malicious_srt)) ])\n",
    "for i, seq in enumerate(tot_str):\n",
    "    for t, char in enumerate(seq):\n",
    "        X[i, t, char_indices[char]] = 1\n",
    "\n",
    "# Test train split\n",
    "rand_index = random.sample(range(len(Y)), len(Y))\n",
    "X_shuffle = X[rand_index]\n",
    "Y_shuffle = Y[rand_index]\n",
    "split_index = int(len(Y)*0.7)\n",
    "X_train = X_shuffle[:split_index,:].astype(int)\n",
    "Y_train = Y_shuffle[:split_index,].astype(int)\n",
    "X_test = X_shuffle[split_index:,:].astype(int)\n",
    "Y_test = Y_shuffle[split_index:,].astype(int)\n",
    "\n",
    "model1 = Sequential()\n",
    "model1.add(LSTM(128, input_shape=(max_len, len(chars))))\n",
    "model1.add(Dense(1, activation='sigmoid'))\n",
    "\n",
    "model1.compile(loss='binary_crossentropy', \n",
    "              optimizer='adam', \n",
    "              metrics=['accuracy'])\n",
    "\n",
    "model_log = model1.fit(X_train, Y_train,\n",
    "          batch_size=128,\n",
    "          epochs=5,\n",
    "          verbose=1,\n",
    "          validation_data=(X_test, Y_test))\n"
   ]
  },
  {
   "cell_type": "code",
   "execution_count": 3,
   "metadata": {},
   "outputs": [
    {
     "name": "stdout",
     "output_type": "stream",
     "text": [
      "Training loss: 0.09650032298702788\n",
      "Training accuracy: 0.9804104675594796\n"
     ]
    }
   ],
   "source": [
    "score = model1.evaluate(X_train, Y_train, verbose=0)\n",
    "print('Training loss:', score[0]) \n",
    "print('Training accuracy:', score[1]) "
   ]
  },
  {
   "cell_type": "code",
   "execution_count": 4,
   "metadata": {},
   "outputs": [
    {
     "name": "stdout",
     "output_type": "stream",
     "text": [
      "Test loss: 0.09203006050365803\n",
      "Test accuracy: 0.9815291670793305\n"
     ]
    }
   ],
   "source": [
    "score = model1.evaluate(X_test, Y_test, verbose=0)\n",
    "print('Test loss:', score[0]) \n",
    "print('Test accuracy:', score[1]) "
   ]
  },
  {
   "cell_type": "code",
   "execution_count": 7,
   "metadata": {},
   "outputs": [
    {
     "name": "stdout",
     "output_type": "stream",
     "text": [
      "Train on 47117 samples, validate on 20194 samples\n",
      "Epoch 1/5\n",
      "47117/47117 [==============================] - 47s 1000us/step - loss: 0.0502 - acc: 0.9793 - val_loss: 0.0242 - val_acc: 0.9880\n",
      "Epoch 2/5\n",
      "47117/47117 [==============================] - 48s 1ms/step - loss: 0.0206 - acc: 0.9897 - val_loss: 0.0190 - val_acc: 0.9917\n",
      "Epoch 3/5\n",
      "47117/47117 [==============================] - 43s 910us/step - loss: 0.0165 - acc: 0.9923 - val_loss: 0.0184 - val_acc: 0.9914\n",
      "Epoch 4/5\n",
      "47117/47117 [==============================] - 45s 945us/step - loss: 0.0123 - acc: 0.9946 - val_loss: 0.0176 - val_acc: 0.9928\n",
      "Epoch 5/5\n",
      "47117/47117 [==============================] - 44s 927us/step - loss: 0.0090 - acc: 0.9962 - val_loss: 0.0225 - val_acc: 0.9910\n"
     ]
    }
   ],
   "source": [
    "from keras.layers import Input, Dense, Conv1D, MaxPooling1D, UpSampling2D,Flatten\n",
    "\n",
    "model2 = Sequential()\n",
    "model2.add(Conv1D(filters=128, kernel_size=4, padding='same', activation='relu'))\n",
    "model2.add(Conv1D(filters=128, kernel_size=4, padding='same', activation='relu'))\n",
    "model2.add(MaxPooling1D(pool_size=4))\n",
    "model2.add(Flatten())\n",
    "model2.add(Dense(128, activation='relu'))\n",
    "model2.add(Dense(1, activation='sigmoid'))\n",
    "model2.compile(loss='binary_crossentropy', \n",
    "              optimizer='adam', \n",
    "              metrics=['accuracy'])\n",
    "\n",
    "model_log = model2.fit(X_train, Y_train,\n",
    "          batch_size=128,\n",
    "          epochs=5,\n",
    "          verbose=1,\n",
    "          validation_data=(X_test, Y_test))\n"
   ]
  },
  {
   "cell_type": "code",
   "execution_count": 8,
   "metadata": {},
   "outputs": [
    {
     "name": "stdout",
     "output_type": "stream",
     "text": [
      "Training loss: 0.010063560576731764\n",
      "Training accuracy: 0.9957764713373093\n"
     ]
    }
   ],
   "source": [
    "score = model2.evaluate(X_train, Y_train, verbose=0)\n",
    "print('Training loss:', score[0]) \n",
    "print('Training accuracy:', score[1]) "
   ]
  },
  {
   "cell_type": "code",
   "execution_count": 9,
   "metadata": {},
   "outputs": [
    {
     "name": "stdout",
     "output_type": "stream",
     "text": [
      "Test loss: 0.022466428220047248\n",
      "Test accuracy: 0.9909874220065366\n"
     ]
    }
   ],
   "source": [
    "score = model2.evaluate(X_test, Y_test, verbose=0)\n",
    "print('Test loss:', score[0]) \n",
    "print('Test accuracy:', score[1]) "
   ]
  },
  {
   "cell_type": "markdown",
   "metadata": {},
   "source": [
    "## 3.3 Compare Two methods"
   ]
  },
  {
   "cell_type": "code",
   "execution_count": null,
   "metadata": {},
   "outputs": [],
   "source": [
    "from sklearn.metrics import roc_curve\n",
    "y_pred_rnn = model1.predict(X_test).ravel()\n",
    "fpr_rnn, tpr_rnn, thresholds_rnn = roc_curve(Y_test, y_pred_rnn)\n",
    "\n",
    "y_pred_cnn = model2.predict(X_test).ravel()\n",
    "fpr_cnn, tpr_cnn, thresholds_cnn = roc_curve(Y_test, y_pred_cnn)"
   ]
  },
  {
   "cell_type": "code",
   "execution_count": null,
   "metadata": {},
   "outputs": [],
   "source": [
    "from sklearn.metrics import auc\n",
    "auc_rnn = auc(fpr_rnn, tpr_rnn)\n",
    "auc_cnn = auc(fpr_cnn, tpr_cnn)\n"
   ]
  },
  {
   "cell_type": "code",
   "execution_count": null,
   "metadata": {},
   "outputs": [],
   "source": [
    "plt.figure(1)\n",
    "plt.plot([0, 1], [0, 1], 'k--')\n",
    "plt.plot(fpr_rnn, tpr_rnn, label='RNN (AUC = {:.3f})'.format(auc_rnn))\n",
    "plt.plot(fpr_cnn, tpr_cnn, label='CNN (AUC = {:.3f})'.format(auc_cnn))\n",
    "plt.xlabel('False positive rate')\n",
    "plt.ylabel('True positive rate')\n",
    "plt.title('ROC curve')\n",
    "plt.legend(loc='best')\n",
    "plt.show()\n"
   ]
  },
  {
   "cell_type": "code",
   "execution_count": null,
   "metadata": {},
   "outputs": [],
   "source": []
  }
 ],
 "metadata": {
  "kernelspec": {
   "display_name": "Python 2",
   "language": "python",
   "name": "python2"
  },
  "language_info": {
   "codemirror_mode": {
    "name": "ipython",
    "version": 3
   },
   "file_extension": ".py",
   "mimetype": "text/x-python",
   "name": "python",
   "nbconvert_exporter": "python",
   "pygments_lexer": "ipython3",
   "version": "3.6.5"
  }
 },
 "nbformat": 4,
 "nbformat_minor": 2
}
