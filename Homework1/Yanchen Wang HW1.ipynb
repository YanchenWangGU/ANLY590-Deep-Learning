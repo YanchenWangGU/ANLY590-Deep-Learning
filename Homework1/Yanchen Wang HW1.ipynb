{
 "cells": [
  {
   "cell_type": "code",
   "execution_count": 5,
   "metadata": {
    "collapsed": true
   },
   "outputs": [],
   "source": [
    "%matplotlib inline\n",
    "\n",
    "import pandas as pd\n",
    "import numpy as np\n",
    "import matplotlib.pyplot as plt\n",
    "\n",
    "from sklearn.preprocessing import scale \n",
    "from sklearn.model_selection import train_test_split\n",
    "from sklearn.linear_model import Ridge, RidgeCV, Lasso, LassoCV\n",
    "from sklearn.metrics import mean_squared_error"
   ]
  },
  {
   "cell_type": "code",
   "execution_count": 6,
   "metadata": {
    "collapsed": true
   },
   "outputs": [],
   "source": [
    "df = pd.read_csv('Hitters.csv')\n",
    "# drop missing\n",
    "df = df.dropna()\n",
    "# drop name\n",
    "df = df.drop('Unnamed: 0', axis = 1)\n",
    "# set salary as dependent variable\n",
    "y = df['Salary']\n",
    "# set predictors excluding categorical predictors\n",
    "x = df.drop(['Salary', 'League', 'Division', 'NewLeague'], axis = 1)\n",
    "dftest = df.drop(['League', 'Division', 'NewLeague'], axis = 1)"
   ]
  },
  {
   "cell_type": "code",
   "execution_count": 9,
   "metadata": {},
   "outputs": [
    {
     "data": {
      "text/plain": [
       "(0.005, 100)"
      ]
     },
     "execution_count": 9,
     "metadata": {},
     "output_type": "execute_result"
    },
    {
     "data": {
      "image/png": "[encoded data removed]",
      "text/plain": [
       "<Figure size 432x288 with 1 Axes>"
      ]
     },
     "metadata": {},
     "output_type": "display_data"
    }
   ],
   "source": [
    "alpha = 10**np.linspace(2,-2,100)\n",
    "lasso = Lasso(normalize = True,max_iter=1e5)\n",
    "coefs = []\n",
    "\n",
    "for a in alpha:\n",
    "    lasso.set_params(alpha=a)\n",
    "    lasso.fit(scale(x), y)\n",
    "    coefs.append(lasso.coef_)\n",
    "    \n",
    "ax = plt.gca()\n",
    "ax.plot(alpha, coefs)\n",
    "ax.set_xscale('log')\n",
    "plt.xlabel('Lambda')\n",
    "plt.ylabel('Coefficients')\n",
    "plt.xlim(0.005,100)"
   ]
  },
  {
   "cell_type": "markdown",
   "metadata": {},
   "source": [
    "In this plot, we can see that when there are 3 non zero coefficients left, alpha is between 10 and 20"
   ]
  },
  {
   "cell_type": "code",
   "execution_count": 10,
   "metadata": {},
   "outputs": [
    {
     "data": {
      "text/html": [
       "<div>\n",
       "<style scoped>\n",
       "    .dataframe tbody tr th:only-of-type {\n",
       "        vertical-align: middle;\n",
       "    }\n",
       "\n",
       "    .dataframe tbody tr th {\n",
       "        vertical-align: top;\n",
       "    }\n",
       "\n",
       "    .dataframe thead th {\n",
       "        text-align: right;\n",
       "    }\n",
       "</style>\n",
       "<table border=\"1\" class=\"dataframe\">\n",
       "  <thead>\n",
       "    <tr style=\"text-align: right;\">\n",
       "      <th></th>\n",
       "      <th>predictor</th>\n",
       "      <th>coef</th>\n",
       "    </tr>\n",
       "  </thead>\n",
       "  <tbody>\n",
       "    <tr>\n",
       "      <th>0</th>\n",
       "      <td>AtBat</td>\n",
       "      <td>0.000000</td>\n",
       "    </tr>\n",
       "    <tr>\n",
       "      <th>1</th>\n",
       "      <td>Hits</td>\n",
       "      <td>0.037439</td>\n",
       "    </tr>\n",
       "    <tr>\n",
       "      <th>2</th>\n",
       "      <td>HmRun</td>\n",
       "      <td>0.000000</td>\n",
       "    </tr>\n",
       "    <tr>\n",
       "      <th>3</th>\n",
       "      <td>Runs</td>\n",
       "      <td>0.000000</td>\n",
       "    </tr>\n",
       "    <tr>\n",
       "      <th>4</th>\n",
       "      <td>RBI</td>\n",
       "      <td>0.000000</td>\n",
       "    </tr>\n",
       "    <tr>\n",
       "      <th>5</th>\n",
       "      <td>Walks</td>\n",
       "      <td>0.000000</td>\n",
       "    </tr>\n",
       "    <tr>\n",
       "      <th>6</th>\n",
       "      <td>Years</td>\n",
       "      <td>0.000000</td>\n",
       "    </tr>\n",
       "    <tr>\n",
       "      <th>7</th>\n",
       "      <td>CAtBat</td>\n",
       "      <td>0.000000</td>\n",
       "    </tr>\n",
       "    <tr>\n",
       "      <th>8</th>\n",
       "      <td>CHits</td>\n",
       "      <td>0.000000</td>\n",
       "    </tr>\n",
       "    <tr>\n",
       "      <th>9</th>\n",
       "      <td>CHmRun</td>\n",
       "      <td>0.000000</td>\n",
       "    </tr>\n",
       "    <tr>\n",
       "      <th>10</th>\n",
       "      <td>CRuns</td>\n",
       "      <td>0.062909</td>\n",
       "    </tr>\n",
       "    <tr>\n",
       "      <th>11</th>\n",
       "      <td>CRBI</td>\n",
       "      <td>0.176160</td>\n",
       "    </tr>\n",
       "    <tr>\n",
       "      <th>12</th>\n",
       "      <td>CWalks</td>\n",
       "      <td>0.000000</td>\n",
       "    </tr>\n",
       "    <tr>\n",
       "      <th>13</th>\n",
       "      <td>PutOuts</td>\n",
       "      <td>0.000000</td>\n",
       "    </tr>\n",
       "    <tr>\n",
       "      <th>14</th>\n",
       "      <td>Assists</td>\n",
       "      <td>0.000000</td>\n",
       "    </tr>\n",
       "    <tr>\n",
       "      <th>15</th>\n",
       "      <td>Errors</td>\n",
       "      <td>0.000000</td>\n",
       "    </tr>\n",
       "  </tbody>\n",
       "</table>\n",
       "</div>"
      ],
      "text/plain": [
       "   predictor      coef\n",
       "0      AtBat  0.000000\n",
       "1       Hits  0.037439\n",
       "2      HmRun  0.000000\n",
       "3       Runs  0.000000\n",
       "4        RBI  0.000000\n",
       "5      Walks  0.000000\n",
       "6      Years  0.000000\n",
       "7     CAtBat  0.000000\n",
       "8      CHits  0.000000\n",
       "9     CHmRun  0.000000\n",
       "10     CRuns  0.062909\n",
       "11      CRBI  0.176160\n",
       "12    CWalks  0.000000\n",
       "13   PutOuts  0.000000\n",
       "14   Assists  0.000000\n",
       "15    Errors  0.000000"
      ]
     },
     "execution_count": 10,
     "metadata": {},
     "output_type": "execute_result"
    }
   ],
   "source": [
    "lasso = Lasso(normalize = True,alpha=11)\n",
    "# here I tried alpha = 11 and see how many non zero coefficients left\n",
    "lasso.fit(x, y)\n",
    "y_pred = lasso.predict(x)\n",
    "result = pd.DataFrame()\n",
    "result['predictor'] = x.columns\n",
    "result['coef'] = list(lasso.coef_)\n",
    "result"
   ]
  },
  {
   "cell_type": "markdown",
   "metadata": {},
   "source": [
    "The final three predictors that remain in the model are \"Hits\",\"CRuns\" and \"CRBI\""
   ]
  },
  {
   "cell_type": "code",
   "execution_count": 11,
   "metadata": {},
   "outputs": [
    {
     "data": {
      "text/plain": [
       "0.0635481759985745"
      ]
     },
     "execution_count": 11,
     "metadata": {},
     "output_type": "execute_result"
    }
   ],
   "source": [
    "lassocv = LassoCV(cv = 10, normalize = True)\n",
    "lassocv.fit(scale(x), y)\n",
    "\n",
    "cvalpha = lassocv.alpha_ \n",
    "cvalpha"
   ]
  },
  {
   "cell_type": "markdown",
   "metadata": {},
   "source": [
    "The optimal value of the regularization penalty is 0.0635"
   ]
  },
  {
   "cell_type": "code",
   "execution_count": 12,
   "metadata": {},
   "outputs": [
    {
     "data": {
      "text/html": [
       "<div>\n",
       "<style scoped>\n",
       "    .dataframe tbody tr th:only-of-type {\n",
       "        vertical-align: middle;\n",
       "    }\n",
       "\n",
       "    .dataframe tbody tr th {\n",
       "        vertical-align: top;\n",
       "    }\n",
       "\n",
       "    .dataframe thead th {\n",
       "        text-align: right;\n",
       "    }\n",
       "</style>\n",
       "<table border=\"1\" class=\"dataframe\">\n",
       "  <thead>\n",
       "    <tr style=\"text-align: right;\">\n",
       "      <th></th>\n",
       "      <th>predictor</th>\n",
       "      <th>coef</th>\n",
       "    </tr>\n",
       "  </thead>\n",
       "  <tbody>\n",
       "    <tr>\n",
       "      <th>0</th>\n",
       "      <td>AtBat</td>\n",
       "      <td>-306.250203</td>\n",
       "    </tr>\n",
       "    <tr>\n",
       "      <th>1</th>\n",
       "      <td>Hits</td>\n",
       "      <td>317.123280</td>\n",
       "    </tr>\n",
       "    <tr>\n",
       "      <th>2</th>\n",
       "      <td>HmRun</td>\n",
       "      <td>0.000000</td>\n",
       "    </tr>\n",
       "    <tr>\n",
       "      <th>3</th>\n",
       "      <td>Runs</td>\n",
       "      <td>-17.400688</td>\n",
       "    </tr>\n",
       "    <tr>\n",
       "      <th>4</th>\n",
       "      <td>RBI</td>\n",
       "      <td>12.827646</td>\n",
       "    </tr>\n",
       "    <tr>\n",
       "      <th>5</th>\n",
       "      <td>Walks</td>\n",
       "      <td>119.477368</td>\n",
       "    </tr>\n",
       "    <tr>\n",
       "      <th>6</th>\n",
       "      <td>Years</td>\n",
       "      <td>-29.221895</td>\n",
       "    </tr>\n",
       "    <tr>\n",
       "      <th>7</th>\n",
       "      <td>CAtBat</td>\n",
       "      <td>-198.704203</td>\n",
       "    </tr>\n",
       "    <tr>\n",
       "      <th>8</th>\n",
       "      <td>CHits</td>\n",
       "      <td>0.000000</td>\n",
       "    </tr>\n",
       "    <tr>\n",
       "      <th>9</th>\n",
       "      <td>CHmRun</td>\n",
       "      <td>12.836778</td>\n",
       "    </tr>\n",
       "    <tr>\n",
       "      <th>10</th>\n",
       "      <td>CRuns</td>\n",
       "      <td>405.958105</td>\n",
       "    </tr>\n",
       "    <tr>\n",
       "      <th>11</th>\n",
       "      <td>CRBI</td>\n",
       "      <td>188.429527</td>\n",
       "    </tr>\n",
       "    <tr>\n",
       "      <th>12</th>\n",
       "      <td>CWalks</td>\n",
       "      <td>-182.010099</td>\n",
       "    </tr>\n",
       "    <tr>\n",
       "      <th>13</th>\n",
       "      <td>PutOuts</td>\n",
       "      <td>81.779305</td>\n",
       "    </tr>\n",
       "    <tr>\n",
       "      <th>14</th>\n",
       "      <td>Assists</td>\n",
       "      <td>44.074467</td>\n",
       "    </tr>\n",
       "    <tr>\n",
       "      <th>15</th>\n",
       "      <td>Errors</td>\n",
       "      <td>-16.160546</td>\n",
       "    </tr>\n",
       "  </tbody>\n",
       "</table>\n",
       "</div>"
      ],
      "text/plain": [
       "   predictor        coef\n",
       "0      AtBat -306.250203\n",
       "1       Hits  317.123280\n",
       "2      HmRun    0.000000\n",
       "3       Runs  -17.400688\n",
       "4        RBI   12.827646\n",
       "5      Walks  119.477368\n",
       "6      Years  -29.221895\n",
       "7     CAtBat -198.704203\n",
       "8      CHits    0.000000\n",
       "9     CHmRun   12.836778\n",
       "10     CRuns  405.958105\n",
       "11      CRBI  188.429527\n",
       "12    CWalks -182.010099\n",
       "13   PutOuts   81.779305\n",
       "14   Assists   44.074467\n",
       "15    Errors  -16.160546"
      ]
     },
     "execution_count": 12,
     "metadata": {},
     "output_type": "execute_result"
    }
   ],
   "source": [
    "lasso = Lasso(max_iter = 10000, normalize = True)\n",
    "lasso.set_params(alpha=cvalpha)\n",
    "lasso.fit(scale(x), y)\n",
    "y_pred = lasso.predict(x)\n",
    "result = pd.DataFrame()\n",
    "result['predictor'] = x.columns\n",
    "result['coef'] = list(lasso.coef_)\n",
    "result"
   ]
  },
  {
   "cell_type": "markdown",
   "metadata": {},
   "source": [
    "After plugging in the regularization penalty, there are 14 predictors left in the model."
   ]
  },
  {
   "cell_type": "markdown",
   "metadata": {},
   "source": [
    "## Ridge Regression"
   ]
  },
  {
   "cell_type": "code",
   "execution_count": 29,
   "metadata": {},
   "outputs": [
    {
     "data": {
      "text/plain": [
       "Text(0,0.5,'Coefficients')"
      ]
     },
     "execution_count": 29,
     "metadata": {},
     "output_type": "execute_result"
    },
    {
     "data": {
      "image/png": "[encoded data removed]",
      "text/plain": [
       "<Figure size 432x288 with 1 Axes>"
      ]
     },
     "metadata": {},
     "output_type": "display_data"
    }
   ],
   "source": [
    "alpha = 10**np.linspace(2,-2,100)\n",
    "ridge = Ridge(normalize = True)\n",
    "coef = []\n",
    "\n",
    "for a in alpha:\n",
    "    ridge.set_params(alpha = a)\n",
    "    ridge.fit(x, y)\n",
    "    coef.append(ridge.coef_)\n",
    "    \n",
    "ax = plt.gca()\n",
    "ax.plot(alpha, coef)\n",
    "ax.set_xscale('log')\n",
    "plt.xlabel('Lambda')\n",
    "plt.ylabel('Coefficients')"
   ]
  },
  {
   "cell_type": "code",
   "execution_count": 31,
   "metadata": {},
   "outputs": [
    {
     "data": {
      "text/plain": [
       "0.9545484566618337"
      ]
     },
     "execution_count": 31,
     "metadata": {},
     "output_type": "execute_result"
    }
   ],
   "source": [
    "ridgecv = RidgeCV(alphas = alpha,cv = 10, normalize = True)\n",
    "ridgecv.fit(x, y)\n",
    "ridgecv.alpha_"
   ]
  },
  {
   "cell_type": "markdown",
   "metadata": {},
   "source": [
    "The optimal value of the regularization penalty is 0.9545"
   ]
  },
  {
   "cell_type": "markdown",
   "metadata": {},
   "source": [
    "# Part 2 Short Answer"
   ]
  },
  {
   "cell_type": "markdown",
   "metadata": {},
   "source": [
    "## 2.1 Bias variance tradeoff"
   ]
  },
  {
   "cell_type": "markdown",
   "metadata": {},
   "source": [
    "Bias is difference between predicted value and its actual value. Variance is measure of sensitivity to small changes in training set. Less flexible models have high bias but low variance and more flexible models have low bias but high variance. Flexible models such as multiple regression trend to have a smaller bias and higher variance and inflexible models such as linear regression trend to have a larger bias and smaller variance. Our goal is to minimize both bias and variance. However, we can't minimize both and there must be a tradeoff between the two. "
   ]
  },
  {
   "cell_type": "markdown",
   "metadata": {
    "collapsed": true
   },
   "source": [
    "## 2.2 What role does regularization play in this tradeoff? "
   ]
  },
  {
   "cell_type": "markdown",
   "metadata": {},
   "source": [
    "Both Ridge and Lasso regression trade off an increase in bias for a decrease in variance. Regularization put  constraint on coefficients of predictors to prevent overfitting i.e. making the model too flexible. Thus, it trades off an increase in bias for a decrease in variance."
   ]
  },
  {
   "cell_type": "markdown",
   "metadata": {},
   "source": [
    "## 2.3 Make reference to your findings in number (1) to describe models of high/low bias and variance"
   ]
  },
  {
   "cell_type": "markdown",
   "metadata": {},
   "source": [
    "One way to measure bias and variance is to use training and test set. Bias can be measured using MSE in training set and variance can be measured using MSE in test set (this is also a measure of overfitting)."
   ]
  },
  {
   "cell_type": "code",
   "execution_count": 50,
   "metadata": {},
   "outputs": [
    {
     "data": {
      "text/html": [
       "<div>\n",
       "<style scoped>\n",
       "    .dataframe tbody tr th:only-of-type {\n",
       "        vertical-align: middle;\n",
       "    }\n",
       "\n",
       "    .dataframe tbody tr th {\n",
       "        vertical-align: top;\n",
       "    }\n",
       "\n",
       "    .dataframe thead th {\n",
       "        text-align: right;\n",
       "    }\n",
       "</style>\n",
       "<table border=\"1\" class=\"dataframe\">\n",
       "  <thead>\n",
       "    <tr style=\"text-align: right;\">\n",
       "      <th></th>\n",
       "      <th>Alpha</th>\n",
       "      <th>Training MSE</th>\n",
       "      <th>Test MSE</th>\n",
       "    </tr>\n",
       "  </thead>\n",
       "  <tbody>\n",
       "    <tr>\n",
       "      <th>0</th>\n",
       "      <td>0.05</td>\n",
       "      <td>101989.154285</td>\n",
       "      <td>119616.773094</td>\n",
       "    </tr>\n",
       "    <tr>\n",
       "      <th>1</th>\n",
       "      <td>0.10</td>\n",
       "      <td>102481.100599</td>\n",
       "      <td>120107.065035</td>\n",
       "    </tr>\n",
       "    <tr>\n",
       "      <th>2</th>\n",
       "      <td>0.20</td>\n",
       "      <td>103392.150244</td>\n",
       "      <td>120716.406741</td>\n",
       "    </tr>\n",
       "    <tr>\n",
       "      <th>3</th>\n",
       "      <td>0.50</td>\n",
       "      <td>108944.637267</td>\n",
       "      <td>127573.151719</td>\n",
       "    </tr>\n",
       "    <tr>\n",
       "      <th>4</th>\n",
       "      <td>1.00</td>\n",
       "      <td>112382.056782</td>\n",
       "      <td>122287.045054</td>\n",
       "    </tr>\n",
       "    <tr>\n",
       "      <th>5</th>\n",
       "      <td>2.00</td>\n",
       "      <td>116615.594381</td>\n",
       "      <td>118170.490746</td>\n",
       "    </tr>\n",
       "    <tr>\n",
       "      <th>6</th>\n",
       "      <td>5.00</td>\n",
       "      <td>124088.723272</td>\n",
       "      <td>117339.569546</td>\n",
       "    </tr>\n",
       "    <tr>\n",
       "      <th>7</th>\n",
       "      <td>10.00</td>\n",
       "      <td>144108.515099</td>\n",
       "      <td>128599.932155</td>\n",
       "    </tr>\n",
       "    <tr>\n",
       "      <th>8</th>\n",
       "      <td>20.00</td>\n",
       "      <td>186918.147396</td>\n",
       "      <td>140874.096036</td>\n",
       "    </tr>\n",
       "    <tr>\n",
       "      <th>9</th>\n",
       "      <td>50.00</td>\n",
       "      <td>240041.113473</td>\n",
       "      <td>167029.300438</td>\n",
       "    </tr>\n",
       "    <tr>\n",
       "      <th>10</th>\n",
       "      <td>100.00</td>\n",
       "      <td>240041.113473</td>\n",
       "      <td>167029.300438</td>\n",
       "    </tr>\n",
       "  </tbody>\n",
       "</table>\n",
       "</div>"
      ],
      "text/plain": [
       "     Alpha   Training MSE       Test MSE\n",
       "0     0.05  101989.154285  119616.773094\n",
       "1     0.10  102481.100599  120107.065035\n",
       "2     0.20  103392.150244  120716.406741\n",
       "3     0.50  108944.637267  127573.151719\n",
       "4     1.00  112382.056782  122287.045054\n",
       "5     2.00  116615.594381  118170.490746\n",
       "6     5.00  124088.723272  117339.569546\n",
       "7    10.00  144108.515099  128599.932155\n",
       "8    20.00  186918.147396  140874.096036\n",
       "9    50.00  240041.113473  167029.300438\n",
       "10  100.00  240041.113473  167029.300438"
      ]
     },
     "execution_count": 50,
     "metadata": {},
     "output_type": "execute_result"
    }
   ],
   "source": [
    "x_train, x_test , y_train, y_test = train_test_split(x, y, test_size=0.5, random_state=123)\n",
    "alpha = [0.05,0.1,0.2,0.5,1,2,5,10,20,50,100]\n",
    "lasso = Lasso(max_iter = 10000, normalize = True)\n",
    "result_train = []\n",
    "result_test = []\n",
    "for i in alpha:\n",
    "    lasso.set_params(alpha=i)\n",
    "    lasso.fit(x_train, y_train)\n",
    "    y_pred_train = lasso.predict(x_train)\n",
    "    result_train.append(mean_squared_error(y_train, y_pred_train))\n",
    "    y_pred_test = lasso.predict(x_test)\n",
    "    result_test.append(mean_squared_error(y_test, y_pred_test))\n",
    "result = pd.DataFrame()\n",
    "result['Alpha'] = alpha\n",
    "result['Training MSE'] = result_train\n",
    "result['Test MSE'] = result_test\n",
    "result"
   ]
  },
  {
   "cell_type": "code",
   "execution_count": 51,
   "metadata": {},
   "outputs": [
    {
     "data": {
      "text/html": [
       "<div>\n",
       "<style scoped>\n",
       "    .dataframe tbody tr th:only-of-type {\n",
       "        vertical-align: middle;\n",
       "    }\n",
       "\n",
       "    .dataframe tbody tr th {\n",
       "        vertical-align: top;\n",
       "    }\n",
       "\n",
       "    .dataframe thead th {\n",
       "        text-align: right;\n",
       "    }\n",
       "</style>\n",
       "<table border=\"1\" class=\"dataframe\">\n",
       "  <thead>\n",
       "    <tr style=\"text-align: right;\">\n",
       "      <th></th>\n",
       "      <th>Alpha</th>\n",
       "      <th>Training MSE</th>\n",
       "      <th>Test MSE</th>\n",
       "    </tr>\n",
       "  </thead>\n",
       "  <tbody>\n",
       "    <tr>\n",
       "      <th>0</th>\n",
       "      <td>0.05</td>\n",
       "      <td>106152.569212</td>\n",
       "      <td>120775.897762</td>\n",
       "    </tr>\n",
       "    <tr>\n",
       "      <th>1</th>\n",
       "      <td>0.10</td>\n",
       "      <td>108731.670744</td>\n",
       "      <td>119775.876656</td>\n",
       "    </tr>\n",
       "    <tr>\n",
       "      <th>2</th>\n",
       "      <td>0.20</td>\n",
       "      <td>112147.916853</td>\n",
       "      <td>117503.983146</td>\n",
       "    </tr>\n",
       "    <tr>\n",
       "      <th>3</th>\n",
       "      <td>0.50</td>\n",
       "      <td>117863.125392</td>\n",
       "      <td>113091.733172</td>\n",
       "    </tr>\n",
       "    <tr>\n",
       "      <th>4</th>\n",
       "      <td>1.00</td>\n",
       "      <td>123172.082264</td>\n",
       "      <td>109339.366554</td>\n",
       "    </tr>\n",
       "    <tr>\n",
       "      <th>5</th>\n",
       "      <td>2.00</td>\n",
       "      <td>130293.171587</td>\n",
       "      <td>106444.888925</td>\n",
       "    </tr>\n",
       "    <tr>\n",
       "      <th>6</th>\n",
       "      <td>5.00</td>\n",
       "      <td>146330.900236</td>\n",
       "      <td>108145.549264</td>\n",
       "    </tr>\n",
       "    <tr>\n",
       "      <th>7</th>\n",
       "      <td>10.00</td>\n",
       "      <td>165713.941634</td>\n",
       "      <td>116848.351943</td>\n",
       "    </tr>\n",
       "    <tr>\n",
       "      <th>8</th>\n",
       "      <td>20.00</td>\n",
       "      <td>188273.943282</td>\n",
       "      <td>130398.122726</td>\n",
       "    </tr>\n",
       "    <tr>\n",
       "      <th>9</th>\n",
       "      <td>50.00</td>\n",
       "      <td>213279.942589</td>\n",
       "      <td>147448.906304</td>\n",
       "    </tr>\n",
       "    <tr>\n",
       "      <th>10</th>\n",
       "      <td>100.00</td>\n",
       "      <td>225263.653266</td>\n",
       "      <td>156083.936472</td>\n",
       "    </tr>\n",
       "  </tbody>\n",
       "</table>\n",
       "</div>"
      ],
      "text/plain": [
       "     Alpha   Training MSE       Test MSE\n",
       "0     0.05  106152.569212  120775.897762\n",
       "1     0.10  108731.670744  119775.876656\n",
       "2     0.20  112147.916853  117503.983146\n",
       "3     0.50  117863.125392  113091.733172\n",
       "4     1.00  123172.082264  109339.366554\n",
       "5     2.00  130293.171587  106444.888925\n",
       "6     5.00  146330.900236  108145.549264\n",
       "7    10.00  165713.941634  116848.351943\n",
       "8    20.00  188273.943282  130398.122726\n",
       "9    50.00  213279.942589  147448.906304\n",
       "10  100.00  225263.653266  156083.936472"
      ]
     },
     "execution_count": 51,
     "metadata": {},
     "output_type": "execute_result"
    }
   ],
   "source": [
    "alpha = [0.05,0.1,0.2,0.5,1,2,5,10,20,50,100]\n",
    "ridge = Ridge(max_iter = 10000, normalize = True)\n",
    "result_train = []\n",
    "result_test = []\n",
    "for i in alpha:\n",
    "    ridge.set_params(alpha=i)\n",
    "    ridge.fit(x_train, y_train)\n",
    "    y_pred_train = ridge.predict(x_train)\n",
    "    result_train.append(mean_squared_error(y_train, y_pred_train))\n",
    "    y_pred_test = ridge.predict(x_test)\n",
    "    result_test.append(mean_squared_error(y_test, y_pred_test))\n",
    "result = pd.DataFrame()\n",
    "result['Alpha'] = alpha\n",
    "result['Training MSE'] = result_train\n",
    "result['Test MSE'] = result_test\n",
    "result"
   ]
  },
  {
   "cell_type": "markdown",
   "metadata": {},
   "source": [
    "In both ridge and lasso regression, as alpha gets larger, training MSE gets larger (bias is increasing). On the other hand, as alpha gets higher, overfitting problem gets smaller (overfitting occurs when testing error is significantly higher than training error). Regularization trades off an increase in bias for a decrease in variance and preventing overfitting."
   ]
  },
  {
   "cell_type": "code",
   "execution_count": null,
   "metadata": {
    "collapsed": true
   },
   "outputs": [],
   "source": []
  }
 ],
 "metadata": {
  "kernelspec": {
   "display_name": "Python 3",
   "language": "python",
   "name": "python3"
  },
  "language_info": {
   "codemirror_mode": {
    "name": "ipython",
    "version": 3
   },
   "file_extension": ".py",
   "mimetype": "text/x-python",
   "name": "python",
   "nbconvert_exporter": "python",
   "pygments_lexer": "ipython3",
   "version": "3.6.1"
  }
 },
 "nbformat": 4,
 "nbformat_minor": 2
}
